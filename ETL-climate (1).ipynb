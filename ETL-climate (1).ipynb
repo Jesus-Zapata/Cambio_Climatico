{
	"metadata": {
		"kernelspec": {
			"name": "glue_pyspark",
			"display_name": "Glue PySpark",
			"language": "python"
		},
		"language_info": {
			"codemirror_mode": {
				"name": "python",
				"version": 3
			},
			"file_extension": ".py",
			"mimetype": "text/x-python",
			"name": "glue_pyspark"
		}
	},
	"nbformat_minor": 4,
	"nbformat": 4,
	"cells": [
		{
			"cell_type": "markdown",
			"source": "# AWS Glue Studio Notebook\n##### You are now running a AWS Glue Studio notebook; To start using your notebook you need to start an AWS Glue Interactive Session.\n",
			"metadata": {
				"editable": false,
				"deletable": false,
				"trusted": true
			}
		},
		{
			"cell_type": "markdown",
			"source": "#### Optional: Run this cell to see available notebook commands (\"magics\").\n",
			"metadata": {
				"editable": false,
				"deletable": false,
				"trusted": true
			}
		},
		{
			"cell_type": "code",
			"source": "%help",
			"metadata": {
				"editable": true,
				"trusted": true
			},
			"execution_count": null,
			"outputs": []
		},
		{
			"cell_type": "markdown",
			"source": "####  Run this cell to set up and start your interactive session.\n",
			"metadata": {
				"editable": false,
				"deletable": false,
				"trusted": true
			}
		},
		{
			"cell_type": "code",
			"source": "%idle_timeout 2880\n%glue_version 3.0\n%worker_type G.1X\n%number_of_workers 5\n\nimport sys\nfrom awsglue.transforms import *\nfrom awsglue.utils import getResolvedOptions\nfrom pyspark.context import SparkContext\nfrom awsglue.context import GlueContext\nfrom awsglue.job import Job\n  \nsc = SparkContext.getOrCreate()\nglueContext = GlueContext(sc)\nspark = glueContext.spark_session\njob = Job(glueContext)",
			"metadata": {
				"editable": true,
				"trusted": true
			},
			"execution_count": 1,
			"outputs": [
				{
					"name": "stdout",
					"text": "Welcome to the Glue Interactive Sessions Kernel\nFor more information on available magic commands, please type %help in any new cell.\n\nPlease view our Getting Started page to access the most up-to-date information on the Interactive Sessions kernel: https://docs.aws.amazon.com/glue/latest/dg/interactive-sessions.html\nInstalled kernel version: 0.37.0 \nCurrent idle_timeout is 2880 minutes.\nidle_timeout has been set to 2880 minutes.\nSetting Glue version to: 3.0\nPrevious worker type: G.1X\nSetting new worker type to: G.1X\nPrevious number of workers: 5\nSetting new number of workers to: 5\nAuthenticating with environment variables and user-defined glue_role_arn: arn:aws:iam::494212176882:role/LabRole\nTrying to create a Glue session for the kernel.\nWorker Type: G.1X\nNumber of Workers: 5\nSession ID: 3cf086c4-4ffe-4e33-aff7-4b721428249e\nJob Type: glueetl\nApplying the following default arguments:\n--glue_kernel_version 0.37.0\n--enable-glue-datacatalog true\nWaiting for session 3cf086c4-4ffe-4e33-aff7-4b721428249e to get into ready status...\nSession 3cf086c4-4ffe-4e33-aff7-4b721428249e has been created.\n\n",
					"output_type": "stream"
				}
			]
		},
		{
			"cell_type": "markdown",
			"source": "#### Example: Create a DynamicFrame from a table in the AWS Glue Data Catalog and display its schema\n",
			"metadata": {
				"editable": false,
				"deletable": false,
				"trusted": true
			}
		},
		{
			"cell_type": "code",
			"source": "dyf = glueContext.create_dynamic_frame.from_catalog(database='trabajo1', table_name='capita')\ndyf.printSchema()",
			"metadata": {
				"editable": true,
				"trusted": true
			},
			"execution_count": 2,
			"outputs": [
				{
					"name": "stdout",
					"text": "root\n|-- country name: string\n|-- country code: string\n|-- 1986: double\n|-- 1987: double\n|-- 1988: double\n|-- 1989: double\n|-- 1990: double\n|-- 1991: double\n|-- 1992: double\n|-- 1993: double\n|-- 1994: double\n|-- 1995: double\n|-- 1996: double\n|-- 1997: double\n|-- 1998: double\n|-- 1999: double\n|-- 2000: double\n|-- 2001: double\n|-- 2002: double\n|-- 2003: double\n|-- 2004: double\n|-- 2005: double\n|-- 2006: double\n|-- 2007: double\n|-- 2008: double\n|-- 2009: double\n|-- 2010: double\n|-- 2011: double\n|-- 2012: double\n|-- 2013: double\n|-- 2014: double\n|-- 2015: string\n|-- 2016: string\n|-- 2017: string\n|-- 2018: string\n|-- 1960: double\n|-- 1961: double\n|-- 1962: double\n|-- 1963: double\n|-- 1964: double\n|-- 1965: double\n|-- 1966: double\n|-- 1967: double\n|-- 1968: double\n|-- 1969: double\n|-- 1970: double\n|-- 1971: double\n|-- 1972: double\n|-- 1973: double\n|-- 1974: double\n|-- 1975: double\n|-- 1976: double\n|-- 1977: double\n|-- 1978: double\n|-- 1979: double\n|-- 1980: double\n|-- 1981: double\n|-- 1982: double\n|-- 1983: double\n|-- 1984: double\n|-- 1985: double\n",
					"output_type": "stream"
				}
			]
		},
		{
			"cell_type": "code",
			"source": "dyf2 = dyf.drop_fields(paths=[\"1986\", \"1987\",\"2000\", \"2001\"])\ndyf2.printSchema()",
			"metadata": {
				"trusted": true
			},
			"execution_count": 4,
			"outputs": [
				{
					"name": "stdout",
					"text": "root\n|-- country name: string\n|-- country code: string\n|-- 1988: double\n|-- 1989: double\n|-- 1990: double\n|-- 1991: double\n|-- 1992: double\n|-- 1993: double\n|-- 1994: double\n|-- 1995: double\n|-- 1996: double\n|-- 1997: double\n|-- 1998: double\n|-- 1999: double\n|-- 2002: double\n|-- 2003: double\n|-- 2004: double\n|-- 2005: double\n|-- 2006: double\n|-- 2007: double\n|-- 2008: double\n|-- 2009: double\n|-- 2010: double\n|-- 2011: double\n|-- 2012: double\n|-- 2013: double\n|-- 2014: double\n|-- 2015: string\n|-- 2016: string\n|-- 2017: string\n|-- 2018: string\n|-- 1960: double\n|-- 1961: double\n|-- 1962: double\n|-- 1963: double\n|-- 1964: double\n|-- 1965: double\n|-- 1966: double\n|-- 1967: double\n|-- 1968: double\n|-- 1969: double\n|-- 1970: double\n|-- 1971: double\n|-- 1972: double\n|-- 1973: double\n|-- 1974: double\n|-- 1975: double\n|-- 1976: double\n|-- 1977: double\n|-- 1978: double\n|-- 1979: double\n|-- 1980: double\n|-- 1981: double\n|-- 1982: double\n|-- 1983: double\n|-- 1984: double\n|-- 1985: double\n",
					"output_type": "stream"
				}
			]
		},
		{
			"cell_type": "code",
			"source": "",
			"metadata": {
				"trusted": true
			},
			"execution_count": 7,
			"outputs": [
				{
					"name": "stdout",
					"text": "TypeError: RenameField() takes no arguments\n",
					"output_type": "stream"
				}
			]
		},
		{
			"cell_type": "markdown",
			"source": "#### Example: Convert the DynamicFrame to a Spark DataFrame and display a sample of the data\n",
			"metadata": {
				"editable": false,
				"deletable": false,
				"trusted": true
			}
		},
		{
			"cell_type": "code",
			"source": "",
			"metadata": {
				"editable": true,
				"trusted": true
			},
			"execution_count": null,
			"outputs": []
		},
		{
			"cell_type": "markdown",
			"source": "#### Example: Write the data in the DynamicFrame to a location in Amazon S3 and a table for it in the AWS Glue Data Catalog\n",
			"metadata": {
				"editable": false,
				"deletable": false,
				"trusted": true
			}
		},
		{
			"cell_type": "code",
			"source": "",
			"metadata": {
				"editable": true,
				"trusted": true
			},
			"execution_count": null,
			"outputs": []
		},
		{
			"cell_type": "code",
			"source": "sink = glueContext.getSink(\n    connection_type=\"s3\", \n    path=\"s3://amaldonadelab4/Trabajo1/\",\n    enableUpdateCatalog=True)\nsink.setFormat(\"csv\")\nsink.setCatalogInfo(catalogDatabase=\"trabajo1\", catalogTableName=\"capita_new\")\nsink.writeFrame(dyf2)",
			"metadata": {
				"trusted": true
			},
			"execution_count": 5,
			"outputs": [
				{
					"name": "stdout",
					"text": "<awsglue.dynamicframe.DynamicFrame object at 0x7f039073d210>\n",
					"output_type": "stream"
				}
			]
		},
		{
			"cell_type": "code",
			"source": "",
			"metadata": {},
			"execution_count": null,
			"outputs": []
		}
	]
}